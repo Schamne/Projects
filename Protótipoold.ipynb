{
 "cells": [
  {
   "cell_type": "code",
   "execution_count": 134,
   "metadata": {},
   "outputs": [],
   "source": [
    "import numpy as np\n",
    "import cv2\n",
    "import time\n",
    "from mss import mss\n",
    "from PIL import Image\n",
    "import pyscreenshot\n",
    "from PIL import ImageGrab\n",
    "import pyautogui\n",
    "from matplotlib import pyplot as plt\n",
    "import glob\n",
    "from skimage.metrics import structural_similarity\n",
    "import os\n",
    "from playsound import playsound"
   ]
  },
  {
   "cell_type": "code",
   "execution_count": null,
   "metadata": {},
   "outputs": [],
   "source": [
    "def screenshot_base():\n",
    "    #Screenshot\n",
    "    pic = pyscreenshot.grab(bbox=(239, 333, 1427, 910))\n",
    "    pic.save(r\"C:\\Users\\55619\\Desktop\\Python Banco de Dados\\Screenshot Base.png\")"
   ]
  },
  {
   "cell_type": "code",
   "execution_count": 141,
   "metadata": {},
   "outputs": [],
   "source": [
    "def crop():\n",
    "    imgs = []\n",
    "    Positions = [[2,0,222,222],\n",
    "                [242,0,462,222],\n",
    "                [482,0,702,222],\n",
    "                [722,0,942,222],\n",
    "                [962,0,1182,222],\n",
    "                [2,350,222,572], \n",
    "                [242,350,462,572], \n",
    "                [482,350,702,572],\n",
    "                [722,350,942,572],\n",
    "                [962,350,1182,572]]\n",
    "                \n",
    "    \n",
    "    \n",
    "    for i in Positions:\n",
    "        left = i[0]\n",
    "        top = i[1]\n",
    "        right = i[2]\n",
    "        bottom = i[3]\n",
    "        \n",
    "        im = Image.open(r\"C:\\Users\\55619\\Desktop\\Python Banco de Dados\\Screenshot Base.png\")\n",
    "        \n",
    "        counter = 0\n",
    "        filename = r\"C:\\Users\\55619\\Desktop\\Python Banco de Dados\\Crop{}.png\"\n",
    "        while os.path.isfile(filename.format(counter)):\n",
    "            counter += 1\n",
    "        filename = filename.format(counter)\n",
    "\n",
    "    # Cropped image of above dimension\n",
    "    # (It will not change original image)\n",
    "        imgs.append(im.crop((left, top, right, bottom)))\n",
    "        im1.save(filename)\n",
    "        if match():\n",
    "            imgs\n",
    "        \n",
    "        if i == [2,0,222,222]:\n",
    "            NewCrop = filename\n",
    "            print(NewCrop)"
   ]
  },
  {
   "cell_type": "code",
   "execution_count": null,
   "metadata": {},
   "outputs": [],
   "source": [
    "def orb_sim(img1, img2):\n",
    "  # SIFT is no longer available in cv2 so using ORB\n",
    "  orb = cv2.ORB_create()\n",
    "\n",
    "  # detect keypoints and descriptors\n",
    "  kp_a, desc_a = orb.detectAndCompute(img1, None)\n",
    "  kp_b, desc_b = orb.detectAndCompute(img2, None)\n",
    "\n",
    "  # define the bruteforce matcher object\n",
    "  bf = cv2.BFMatcher(cv2.NORM_HAMMING, crossCheck=True)\n",
    "    \n",
    "  #perform matches. \n",
    "  matches = bf.match(desc_a, desc_b)\n",
    "  #Look for similar regions with distance < 50. Goes from 0 to 100 so pick a number between.\n",
    "  similar_regions = [i for i in matches if i.distance < 50]  \n",
    "  if len(matches) == 0:\n",
    "    return 0\n",
    "  return len(similar_regions) / len(matches)"
   ]
  },
  {
   "cell_type": "code",
   "execution_count": null,
   "metadata": {},
   "outputs": [],
   "source": [
    "def structural_sim(img1, img2):\n",
    "\n",
    "  sim, diff = structural_similarity(img1, img2, full=True)\n",
    "  return sim"
   ]
  },
  {
   "cell_type": "code",
   "execution_count": null,
   "metadata": {},
   "outputs": [],
   "source": [
    "def match():\n",
    "\n",
    "  for f in glob.iglob(r'C:\\Users\\55619\\Desktop\\Python Banco de Dados\\Crop*.png'):\n",
    "    image = cv2.imread(f, 0)\n",
    "    orb_similarity = orb_sim(img1, image)  #1.0 means identical. Lower = not similar\n",
    "    if orb_similarity > 0.8:\n",
    "      print('Mesmo item encontrado')\n",
    "    else:\n",
    "      return False\n",
    "    print(f)\n",
    "    print(\"Similarity using ORB is: \" + str(orb_similarity) + \"\\n\")\n",
    "    return True\n"
   ]
  },
  {
   "cell_type": "code",
   "execution_count": null,
   "metadata": {},
   "outputs": [],
   "source": [
    "\n",
    "def achar():\n",
    "    r = None\n",
    "    while r is None:\n",
    "        try:\n",
    "            print('procurando bolsa')\n",
    "            pyautogui.click(NewCrop)\n",
    "            bolsa = pyautogui.locateOnScreen(NewCrop)\n",
    "            if bolsa is None:\n",
    "                break\n",
    "            else:\n",
    "                t = None\n",
    "                while t is None:\n",
    "                    try:\n",
    "                        #Reservar Bolsa\n",
    "                        print('procurando eu quero')\n",
    "                        pyautogui.click(r'C:\\Users\\55619\\Desktop\\Python Banco de Dados\\Autogui\\euquero.png')\n",
    "                        break\n",
    "                    except Exception as y:\n",
    "                        t = None\n",
    "        except Exception as e:\n",
    "            r = None"
   ]
  },
  {
   "cell_type": "code",
   "execution_count": null,
   "metadata": {},
   "outputs": [],
   "source": [
    "r = None\n",
    "while r is None:\n",
    "    try:\n",
    "        print('procurando bolsa')\n",
    "        pyautogui.click(r\"C:\\Users\\55619\\Desktop\\Python Banco de Dados\\Crop0.png\")\n",
    "        bolsa = pyautogui.locateOnScreen(r\"C:\\Users\\55619\\Desktop\\Python Banco de Dados\\Crop0.png\")\n",
    "        if bolsa is None:\n",
    "            break\n",
    "        else:\n",
    "            t = None\n",
    "            while t is None:\n",
    "                try:\n",
    "                    #Reservar Bolsa\n",
    "                    print('procurando eu quero')\n",
    "                    pyautogui.click(r'C:\\Users\\55619\\Desktop\\Python Banco de Dados\\Autogui\\euquero.png')\n",
    "                    break\n",
    "                except Exception as y:\n",
    "                    t = None\n",
    "    except Exception as e:\n",
    "        r = None"
   ]
  },
  {
   "cell_type": "code",
   "execution_count": 136,
   "metadata": {},
   "outputs": [],
   "source": [
    "def main():\n",
    "    while(True):\n",
    "        screenshot_base()\n",
    "        crop()\n",
    "        if match() == False:\n",
    "            achar()\n",
    "        pyautogui.press('f5')\n",
    "        time.sleep(3)"
   ]
  },
  {
   "cell_type": "code",
   "execution_count": 140,
   "metadata": {},
   "outputs": [
    {
     "ename": "AttributeError",
     "evalue": "'list' object has no attribute 'add'",
     "output_type": "error",
     "traceback": [
      "\u001b[1;31m---------------------------------------------------------------------------\u001b[0m",
      "\u001b[1;31mAttributeError\u001b[0m                            Traceback (most recent call last)",
      "\u001b[1;32m~\\AppData\\Local\\Temp\\ipykernel_7068\\451043146.py\u001b[0m in \u001b[0;36m<module>\u001b[1;34m\u001b[0m\n\u001b[1;32m----> 1\u001b[1;33m \u001b[0mmain\u001b[0m\u001b[1;33m(\u001b[0m\u001b[1;33m)\u001b[0m\u001b[1;33m\u001b[0m\u001b[1;33m\u001b[0m\u001b[0m\n\u001b[0m",
      "\u001b[1;32m~\\AppData\\Local\\Temp\\ipykernel_7068\\3108252250.py\u001b[0m in \u001b[0;36mmain\u001b[1;34m()\u001b[0m\n\u001b[0;32m      2\u001b[0m     \u001b[1;32mwhile\u001b[0m\u001b[1;33m(\u001b[0m\u001b[1;32mTrue\u001b[0m\u001b[1;33m)\u001b[0m\u001b[1;33m:\u001b[0m\u001b[1;33m\u001b[0m\u001b[1;33m\u001b[0m\u001b[0m\n\u001b[0;32m      3\u001b[0m         \u001b[0mscreenshot_base\u001b[0m\u001b[1;33m(\u001b[0m\u001b[1;33m)\u001b[0m\u001b[1;33m\u001b[0m\u001b[1;33m\u001b[0m\u001b[0m\n\u001b[1;32m----> 4\u001b[1;33m         \u001b[0mcrop\u001b[0m\u001b[1;33m(\u001b[0m\u001b[1;33m)\u001b[0m\u001b[1;33m\u001b[0m\u001b[1;33m\u001b[0m\u001b[0m\n\u001b[0m\u001b[0;32m      5\u001b[0m         \u001b[1;32mif\u001b[0m \u001b[0mmatch\u001b[0m\u001b[1;33m(\u001b[0m\u001b[1;33m)\u001b[0m \u001b[1;33m==\u001b[0m \u001b[1;32mFalse\u001b[0m\u001b[1;33m:\u001b[0m\u001b[1;33m\u001b[0m\u001b[1;33m\u001b[0m\u001b[0m\n\u001b[0;32m      6\u001b[0m             \u001b[0machar\u001b[0m\u001b[1;33m(\u001b[0m\u001b[1;33m)\u001b[0m\u001b[1;33m\u001b[0m\u001b[1;33m\u001b[0m\u001b[0m\n",
      "\u001b[1;32m~\\AppData\\Local\\Temp\\ipykernel_7068\\1496748961.py\u001b[0m in \u001b[0;36mcrop\u001b[1;34m()\u001b[0m\n\u001b[0;32m     30\u001b[0m     \u001b[1;31m# Cropped image of above dimension\u001b[0m\u001b[1;33m\u001b[0m\u001b[1;33m\u001b[0m\u001b[0m\n\u001b[0;32m     31\u001b[0m     \u001b[1;31m# (It will not change original image)\u001b[0m\u001b[1;33m\u001b[0m\u001b[1;33m\u001b[0m\u001b[0m\n\u001b[1;32m---> 32\u001b[1;33m         \u001b[0mimgs\u001b[0m\u001b[1;33m.\u001b[0m\u001b[0madd\u001b[0m\u001b[1;33m(\u001b[0m\u001b[0mim\u001b[0m\u001b[1;33m.\u001b[0m\u001b[0mcrop\u001b[0m\u001b[1;33m(\u001b[0m\u001b[1;33m(\u001b[0m\u001b[0mleft\u001b[0m\u001b[1;33m,\u001b[0m \u001b[0mtop\u001b[0m\u001b[1;33m,\u001b[0m \u001b[0mright\u001b[0m\u001b[1;33m,\u001b[0m \u001b[0mbottom\u001b[0m\u001b[1;33m)\u001b[0m\u001b[1;33m)\u001b[0m\u001b[1;33m)\u001b[0m\u001b[1;33m\u001b[0m\u001b[1;33m\u001b[0m\u001b[0m\n\u001b[0m\u001b[0;32m     33\u001b[0m         \u001b[0mim1\u001b[0m\u001b[1;33m.\u001b[0m\u001b[0msave\u001b[0m\u001b[1;33m(\u001b[0m\u001b[0mfilename\u001b[0m\u001b[1;33m)\u001b[0m\u001b[1;33m\u001b[0m\u001b[1;33m\u001b[0m\u001b[0m\n\u001b[0;32m     34\u001b[0m \u001b[1;33m\u001b[0m\u001b[0m\n",
      "\u001b[1;31mAttributeError\u001b[0m: 'list' object has no attribute 'add'"
     ]
    }
   ],
   "source": [
    "main()"
   ]
  },
  {
   "cell_type": "code",
   "execution_count": 135,
   "metadata": {},
   "outputs": [],
   "source": [
    "playsound(r\"C:\\Users\\55619\\Desktop\\Python Banco de Dados\\Autogui\\sound.mp3\")"
   ]
  }
 ],
 "metadata": {
  "kernelspec": {
   "display_name": "Python 3.9.13 ('base')",
   "language": "python",
   "name": "python3"
  },
  "language_info": {
   "codemirror_mode": {
    "name": "ipython",
    "version": 3
   },
   "file_extension": ".py",
   "mimetype": "text/x-python",
   "name": "python",
   "nbconvert_exporter": "python",
   "pygments_lexer": "ipython3",
   "version": "3.9.13"
  },
  "orig_nbformat": 4,
  "vscode": {
   "interpreter": {
    "hash": "d91df9c0548a4b2d04a7ffa928d8794274eae946f4d8eb884c1f27e361e0be7b"
   }
  }
 },
 "nbformat": 4,
 "nbformat_minor": 2
}
